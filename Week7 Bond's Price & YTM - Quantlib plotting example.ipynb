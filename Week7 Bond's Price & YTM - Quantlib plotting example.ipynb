{
 "cells": [
  {
   "cell_type": "code",
   "execution_count": 2,
   "metadata": {},
   "outputs": [],
   "source": [
    "import QuantLib as ql\n",
    "import matplotlib.pyplot as plt"
   ]
  },
  {
   "cell_type": "code",
   "execution_count": 2,
   "metadata": {},
   "outputs": [],
   "source": [
    "dates = [ql.Date(16,11,2020), ql.Date(16,12,2020), ql.Date(16,1,2021),\n",
    "        ql.Date(16,4,2021), ql.Date(16,10,2021), ql.Date(16,10,2022),\n",
    "        ql.Date(16,10,2023), ql.Date(16,10,2025), ql.Date(16,10,2027),\n",
    "        ql.Date(16,10,2030), ql.Date(16,10,2040), ql.Date(16,10,2050)]\n",
    "zeros = [0.09, 0.10, 0.11, 0.12, 0.12, 0.14, 0.18, 0.32, 0.53, 0.76, 1.30, 1.52]\n",
    "curve = ql.ZeroCurve(dates, zeros, ql.ActualActual(), ql.TARGET())"
   ]
  },
  {
   "cell_type": "code",
   "execution_count": 3,
   "metadata": {},
   "outputs": [
    {
     "data": {
      "text/plain": [
       "((Date(16,11,2020), 0.09),\n",
       " (Date(16,12,2020), 0.1),\n",
       " (Date(16,1,2021), 0.11),\n",
       " (Date(16,4,2021), 0.12),\n",
       " (Date(16,10,2021), 0.12),\n",
       " (Date(16,10,2022), 0.14),\n",
       " (Date(16,10,2023), 0.18),\n",
       " (Date(16,10,2025), 0.32),\n",
       " (Date(16,10,2027), 0.53),\n",
       " (Date(16,10,2030), 0.76),\n",
       " (Date(16,10,2040), 1.3),\n",
       " (Date(16,10,2050), 1.52))"
      ]
     },
     "execution_count": 3,
     "metadata": {},
     "output_type": "execute_result"
    }
   ],
   "source": [
    "curve.nodes()"
   ]
  },
  {
   "cell_type": "code",
   "execution_count": 4,
   "metadata": {},
   "outputs": [
    {
     "data": {
      "text/plain": [
       "tuple"
      ]
     },
     "execution_count": 4,
     "metadata": {},
     "output_type": "execute_result"
    }
   ],
   "source": [
    "type(curve.nodes())"
   ]
  },
  {
   "cell_type": "code",
   "execution_count": 5,
   "metadata": {},
   "outputs": [
    {
     "name": "stdout",
     "output_type": "stream",
     "text": [
      "2020-11-16 0.09\n",
      "2020-12-16 0.1\n",
      "2021-01-16 0.11\n",
      "2021-04-16 0.12\n",
      "2021-10-16 0.12\n",
      "2022-10-16 0.14\n",
      "2023-10-16 0.18\n",
      "2025-10-16 0.32\n",
      "2027-10-16 0.53\n",
      "2030-10-16 0.76\n",
      "2040-10-16 1.3\n",
      "2050-10-16 1.52\n"
     ]
    }
   ],
   "source": [
    "x = []\n",
    "y = []\n",
    "for dt, rate in curve.nodes():\n",
    "    print(dt.to_date(), rate)\n",
    "    x.append(dt.to_date())\n",
    "    y.append(rate)"
   ]
  },
  {
   "cell_type": "code",
   "execution_count": 6,
   "metadata": {},
   "outputs": [
    {
     "data": {
      "text/plain": [
       "[datetime.date(2020, 11, 16),\n",
       " datetime.date(2020, 12, 16),\n",
       " datetime.date(2021, 1, 16),\n",
       " datetime.date(2021, 4, 16),\n",
       " datetime.date(2021, 10, 16),\n",
       " datetime.date(2022, 10, 16),\n",
       " datetime.date(2023, 10, 16),\n",
       " datetime.date(2025, 10, 16),\n",
       " datetime.date(2027, 10, 16),\n",
       " datetime.date(2030, 10, 16),\n",
       " datetime.date(2040, 10, 16),\n",
       " datetime.date(2050, 10, 16)]"
      ]
     },
     "execution_count": 6,
     "metadata": {},
     "output_type": "execute_result"
    }
   ],
   "source": [
    "x"
   ]
  },
  {
   "cell_type": "code",
   "execution_count": 7,
   "metadata": {},
   "outputs": [
    {
     "data": {
      "text/plain": [
       "[0.09, 0.1, 0.11, 0.12, 0.12, 0.14, 0.18, 0.32, 0.53, 0.76, 1.3, 1.52]"
      ]
     },
     "execution_count": 7,
     "metadata": {},
     "output_type": "execute_result"
    }
   ],
   "source": [
    "y"
   ]
  },
  {
   "cell_type": "code",
   "execution_count": 8,
   "metadata": {},
   "outputs": [
    {
     "data": {
      "text/plain": [
       "[<matplotlib.lines.Line2D at 0x1c00b44c1c0>]"
      ]
     },
     "execution_count": 8,
     "metadata": {},
     "output_type": "execute_result"
    },
    {
     "data": {
      "image/png": "[encoded data removed]",
      "text/plain": [
       "<Figure size 432x288 with 1 Axes>"
      ]
     },
     "metadata": {
      "needs_background": "light"
     },
     "output_type": "display_data"
    }
   ],
   "source": [
    "plt.plot(x,y,marker='o')"
   ]
  },
  {
   "cell_type": "code",
   "execution_count": 3,
   "metadata": {},
   "outputs": [],
   "source": [
    "start = ql.Date(1, 6, 2020)\n",
    "maturity = ql.Date(1, 3, 2022)\n",
    "schedule = ql.MakeSchedule(start, maturity, ql.Period('6M'))\n",
    "\n",
    "interest = ql.FixedRateLeg(schedule, ql.Thirty360(), [100.], [0.05])\n",
    "bond = ql.Bond(0, ql.TARGET(), start, interest)"
   ]
  },
  {
   "cell_type": "code",
   "execution_count": 5,
   "metadata": {},
   "outputs": [
    {
     "data": {
      "text/plain": [
       "0.24580758885741233"
      ]
     },
     "execution_count": 5,
     "metadata": {},
     "output_type": "execute_result"
    }
   ],
   "source": [
    "bond.bondYield(80, ql.Thirty360(), ql.Compounded, ql.Annual)"
   ]
  },
  {
   "cell_type": "code",
   "execution_count": 11,
   "metadata": {},
   "outputs": [
    {
     "data": {
      "text/plain": [
       "101.99188452626082"
      ]
     },
     "execution_count": 11,
     "metadata": {},
     "output_type": "execute_result"
    }
   ],
   "source": [
    "bond.dirtyPrice(0.04, ql.Actual360(), ql.Compounded, ql.Semiannual)"
   ]
  },
  {
   "cell_type": "code",
   "execution_count": 6,
   "metadata": {},
   "outputs": [],
   "source": [
    "maturity15 = ql.Date(1, 3, 2025)"
   ]
  },
  {
   "cell_type": "code",
   "execution_count": 7,
   "metadata": {},
   "outputs": [],
   "source": [
    "zerobond = ql.ZeroCouponBond(0, ql.TARGET(), 100, maturity15)"
   ]
  },
  {
   "cell_type": "code",
   "execution_count": 9,
   "metadata": {},
   "outputs": [
    {
     "data": {
      "text/plain": [
       "0.024564140630473734"
      ]
     },
     "execution_count": 9,
     "metadata": {},
     "output_type": "execute_result"
    }
   ],
   "source": [
    "zerobond.bondYield(90, ql.Thirty360(), ql.Compounded, ql.Annual)"
   ]
  },
  {
   "cell_type": "code",
   "execution_count": 11,
   "metadata": {},
   "outputs": [
    {
     "data": {
      "text/plain": [
       "68.4257311326372"
      ]
     },
     "execution_count": 11,
     "metadata": {},
     "output_type": "execute_result"
    }
   ],
   "source": [
    "zerobond.dirtyPrice(0.09, ql.Actual360(), ql.Compounded, ql.Annual)"
   ]
  },
  {
   "cell_type": "code",
   "execution_count": null,
   "metadata": {},
   "outputs": [],
   "source": []
  }
 ],
 "metadata": {
  "kernelspec": {
   "display_name": "Python 3",
   "language": "python",
   "name": "python3"
  },
  "language_info": {
   "codemirror_mode": {
    "name": "ipython",
    "version": 3
   },
   "file_extension": ".py",
   "mimetype": "text/x-python",
   "name": "python",
   "nbconvert_exporter": "python",
   "pygments_lexer": "ipython3",
   "version": "3.8.3"
  }
 },
 "nbformat": 4,
 "nbformat_minor": 4
}
